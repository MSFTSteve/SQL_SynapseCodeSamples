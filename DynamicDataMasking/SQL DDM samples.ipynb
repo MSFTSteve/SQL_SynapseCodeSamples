{
    "metadata": {
        "kernelspec": {
            "name": "SQL",
            "display_name": "SQL",
            "language": "sql"
        },
        "language_info": {
            "name": "sql",
            "version": ""
        }
    },
    "nbformat_minor": 2,
    "nbformat": 4,
    "cells": [
        {
            "cell_type": "markdown",
            "source": [
                "# Dynamic Data Masking on Synapse\n",
                "\n",
                "## Sample Scripts"
            ],
            "metadata": {
                "azdata_cell_guid": "e6a17aa9-210b-4ca2-9de2-697bb4007dea"
            }
        },
        {
            "cell_type": "code",
            "source": [
                "SELECT c.name, tbl.name as table_name, c.is_masked, c.masking_function  \r\n",
                "FROM sys.masked_columns AS c  \r\n",
                "JOIN sys.tables AS tbl   \r\n",
                "    ON c.[object_id] = tbl.[object_id]  \r\n",
                "WHERE is_masked = 1;  "
            ],
            "metadata": {
                "azdata_cell_guid": "bbb1c42f-5993-4266-95f9-cd145941e89b"
            },
            "outputs": [
                {
                    "output_type": "display_data",
                    "data": {
                        "text/html": "(4 rows affected)"
                    },
                    "metadata": {}
                },
                {
                    "output_type": "display_data",
                    "data": {
                        "text/html": "Total execution time: 00:00:00.074"
                    },
                    "metadata": {}
                },
                {
                    "output_type": "execute_result",
                    "metadata": {},
                    "execution_count": 25,
                    "data": {
                        "application/vnd.dataresource+json": {
                            "schema": {
                                "fields": [
                                    {
                                        "name": "name"
                                    },
                                    {
                                        "name": "table_name"
                                    },
                                    {
                                        "name": "is_masked"
                                    },
                                    {
                                        "name": "masking_function"
                                    }
                                ]
                            },
                            "data": [
                                {
                                    "0": "BirthDate",
                                    "1": "DimCustomer",
                                    "2": "1",
                                    "3": "default()"
                                },
                                {
                                    "0": "EmailAddress",
                                    "1": "DimCustomer",
                                    "2": "1",
                                    "3": "email()"
                                },
                                {
                                    "0": "BirthDate",
                                    "1": "DimEmployee",
                                    "2": "1",
                                    "3": "default()"
                                },
                                {
                                    "0": "EmailAddress",
                                    "1": "DimEmployee",
                                    "2": "1",
                                    "3": "default()"
                                }
                            ]
                        },
                        "text/html": [
                            "<table>",
                            "<tr><th>name</th><th>table_name</th><th>is_masked</th><th>masking_function</th></tr>",
                            "<tr><td>BirthDate</td><td>DimCustomer</td><td>1</td><td>default()</td></tr>",
                            "<tr><td>EmailAddress</td><td>DimCustomer</td><td>1</td><td>email()</td></tr>",
                            "<tr><td>BirthDate</td><td>DimEmployee</td><td>1</td><td>default()</td></tr>",
                            "<tr><td>EmailAddress</td><td>DimEmployee</td><td>1</td><td>default()</td></tr>",
                            "</table>"
                        ]
                    }
                }
            ],
            "execution_count": 25
        },
        {
            "cell_type": "code",
            "source": [
                "--Clean up masking\r\n",
                "ALTER TABLE cso.DimCustomer  \r\n",
                "ALTER COLUMN BirthDate DROP MASKED;  \r\n",
                "\r\n",
                "ALTER TABLE cso.DimCustomer  \r\n",
                "ALTER COLUMN EmailAddress DROP MASKED;  "
            ],
            "metadata": {
                "azdata_cell_guid": "cfd6cc51-61ab-4ee8-8ec8-f57aa7d52efc"
            },
            "outputs": [
                {
                    "output_type": "display_data",
                    "data": {
                        "text/html": "Commands completed successfully."
                    },
                    "metadata": {}
                },
                {
                    "output_type": "display_data",
                    "data": {
                        "text/html": "Total execution time: 00:00:00.162"
                    },
                    "metadata": {}
                }
            ],
            "execution_count": 26
        },
        {
            "cell_type": "code",
            "source": [
                "--Add data masking to the DimCustomer Table\r\n",
                "\r\n",
                "ALTER TABLE cso.DimCustomer ALTER COLUMN BirthDate ADD MASKED WITH (FUNCTION = 'default()');\r\n",
                "\r\n",
                "ALTER TABLE cso.DimCustomer ALTER COLUMN EmailAddress ADD MASKED WITH (FUNCTION = 'Email()');\r\n",
                "\r\n",
                ""
            ],
            "metadata": {
                "azdata_cell_guid": "403d9e15-9f7d-41cc-9b84-a2ce27a3781a"
            },
            "outputs": [
                {
                    "output_type": "display_data",
                    "data": {
                        "text/html": "Commands completed successfully."
                    },
                    "metadata": {}
                },
                {
                    "output_type": "display_data",
                    "data": {
                        "text/html": "Total execution time: 00:00:00.128"
                    },
                    "metadata": {}
                }
            ],
            "execution_count": 27
        },
        {
            "cell_type": "code",
            "source": [
                "  \r\n",
                "  -- impersonate for testing:\r\n",
                "EXECUTE AS USER = 'TestUser';  \r\n",
                "\r\n",
                "SELECT Top 10 CustomerKey, FirstName, LastName, BirthDate, EmailAddress FROM cso.DimCustomer  \r\n",
                "\r\n",
                "REVERT;  \r\n",
                ""
            ],
            "metadata": {
                "azdata_cell_guid": "8ce83b83-9158-40fc-94b5-cdcb77679633"
            },
            "outputs": [
                {
                    "output_type": "display_data",
                    "data": {
                        "text/html": "(10 rows affected)"
                    },
                    "metadata": {}
                },
                {
                    "output_type": "display_data",
                    "data": {
                        "text/html": "Total execution time: 00:00:00.349"
                    },
                    "metadata": {}
                },
                {
                    "output_type": "execute_result",
                    "metadata": {},
                    "execution_count": 28,
                    "data": {
                        "application/vnd.dataresource+json": {
                            "schema": {
                                "fields": [
                                    {
                                        "name": "CustomerKey"
                                    },
                                    {
                                        "name": "FirstName"
                                    },
                                    {
                                        "name": "LastName"
                                    },
                                    {
                                        "name": "BirthDate"
                                    },
                                    {
                                        "name": "EmailAddress"
                                    }
                                ]
                            },
                            "data": [
                                {
                                    "0": "5248",
                                    "1": "Anna",
                                    "2": "Brown",
                                    "3": "1900-01-01 00:00:00.000",
                                    "4": "aXXX@XXXX.com"
                                },
                                {
                                    "0": "12143",
                                    "1": "Cara",
                                    "2": "Wu",
                                    "3": "1900-01-01 00:00:00.000",
                                    "4": "cXXX@XXXX.com"
                                },
                                {
                                    "0": "6457",
                                    "1": "Trevor",
                                    "2": "Wood",
                                    "3": "1900-01-01 00:00:00.000",
                                    "4": "tXXX@XXXX.com"
                                },
                                {
                                    "0": "12073",
                                    "1": "Toni",
                                    "2": "Srini",
                                    "3": "1900-01-01 00:00:00.000",
                                    "4": "tXXX@XXXX.com"
                                },
                                {
                                    "0": "6106",
                                    "1": "Madison",
                                    "2": "Walker",
                                    "3": "1900-01-01 00:00:00.000",
                                    "4": "mXXX@XXXX.com"
                                },
                                {
                                    "0": "2977",
                                    "1": "Emmanuel",
                                    "2": "Smith",
                                    "3": "1900-01-01 00:00:00.000",
                                    "4": "eXXX@XXXX.com"
                                },
                                {
                                    "0": "2512",
                                    "1": "Ernest",
                                    "2": "Liu",
                                    "3": "1900-01-01 00:00:00.000",
                                    "4": "eXXX@XXXX.com"
                                },
                                {
                                    "0": "1898",
                                    "1": "Alyssa",
                                    "2": "Wilson",
                                    "3": "1900-01-01 00:00:00.000",
                                    "4": "aXXX@XXXX.com"
                                },
                                {
                                    "0": "9323",
                                    "1": "Rachel",
                                    "2": "Wood",
                                    "3": "1900-01-01 00:00:00.000",
                                    "4": "rXXX@XXXX.com"
                                },
                                {
                                    "0": "7680",
                                    "1": "Seth",
                                    "2": "Wood",
                                    "3": "1900-01-01 00:00:00.000",
                                    "4": "sXXX@XXXX.com"
                                }
                            ]
                        },
                        "text/html": [
                            "<table>",
                            "<tr><th>CustomerKey</th><th>FirstName</th><th>LastName</th><th>BirthDate</th><th>EmailAddress</th></tr>",
                            "<tr><td>5248</td><td>Anna</td><td>Brown</td><td>1900-01-01 00:00:00.000</td><td>aXXX@XXXX.com</td></tr>",
                            "<tr><td>12143</td><td>Cara</td><td>Wu</td><td>1900-01-01 00:00:00.000</td><td>cXXX@XXXX.com</td></tr>",
                            "<tr><td>6457</td><td>Trevor</td><td>Wood</td><td>1900-01-01 00:00:00.000</td><td>tXXX@XXXX.com</td></tr>",
                            "<tr><td>12073</td><td>Toni</td><td>Srini</td><td>1900-01-01 00:00:00.000</td><td>tXXX@XXXX.com</td></tr>",
                            "<tr><td>6106</td><td>Madison</td><td>Walker</td><td>1900-01-01 00:00:00.000</td><td>mXXX@XXXX.com</td></tr>",
                            "<tr><td>2977</td><td>Emmanuel</td><td>Smith</td><td>1900-01-01 00:00:00.000</td><td>eXXX@XXXX.com</td></tr>",
                            "<tr><td>2512</td><td>Ernest</td><td>Liu</td><td>1900-01-01 00:00:00.000</td><td>eXXX@XXXX.com</td></tr>",
                            "<tr><td>1898</td><td>Alyssa</td><td>Wilson</td><td>1900-01-01 00:00:00.000</td><td>aXXX@XXXX.com</td></tr>",
                            "<tr><td>9323</td><td>Rachel</td><td>Wood</td><td>1900-01-01 00:00:00.000</td><td>rXXX@XXXX.com</td></tr>",
                            "<tr><td>7680</td><td>Seth</td><td>Wood</td><td>1900-01-01 00:00:00.000</td><td>sXXX@XXXX.com</td></tr>",
                            "</table>"
                        ]
                    }
                }
            ],
            "execution_count": 28
        },
        {
            "cell_type": "code",
            "source": [
                "--Show issues with UNMASK\r\n",
                "\r\n",
                "GRANT UNMASK TO TestUser;\r\n",
                "\r\n",
                "EXECUTE AS USER = 'TestUser';  \r\n",
                "\r\n",
                "SELECT Top 10 CustomerKey, FirstName, LastName, BirthDate, EmailAddress FROM cso.DimCustomer; \r\n",
                "SELECT Top 10 EmployeeKey, FirstName, LastName, BirthDate, EmailAddress FROM cso.DimEmployee;\r\n",
                "\r\n",
                "REVERT;"
            ],
            "metadata": {
                "azdata_cell_guid": "81455dbe-2d58-4b07-b1aa-bd643737b8d4"
            },
            "outputs": [
                {
                    "output_type": "display_data",
                    "data": {
                        "text/html": "(10 rows affected)"
                    },
                    "metadata": {}
                },
                {
                    "output_type": "display_data",
                    "data": {
                        "text/html": "(10 rows affected)"
                    },
                    "metadata": {}
                },
                {
                    "output_type": "display_data",
                    "data": {
                        "text/html": "Total execution time: 00:00:01.383"
                    },
                    "metadata": {}
                },
                {
                    "output_type": "execute_result",
                    "metadata": {},
                    "execution_count": 29,
                    "data": {
                        "application/vnd.dataresource+json": {
                            "schema": {
                                "fields": [
                                    {
                                        "name": "CustomerKey"
                                    },
                                    {
                                        "name": "FirstName"
                                    },
                                    {
                                        "name": "LastName"
                                    },
                                    {
                                        "name": "BirthDate"
                                    },
                                    {
                                        "name": "EmailAddress"
                                    }
                                ]
                            },
                            "data": [
                                {
                                    "0": "5248",
                                    "1": "Anna",
                                    "2": "Brown",
                                    "3": "1959-05-03 00:00:00.000",
                                    "4": "anna65@adventure-works.com"
                                },
                                {
                                    "0": "12143",
                                    "1": "Cara",
                                    "2": "Wu",
                                    "3": "1956-07-01 00:00:00.000",
                                    "4": "cara3@adventure-works.com"
                                },
                                {
                                    "0": "6457",
                                    "1": "Trevor",
                                    "2": "Wood",
                                    "3": "1954-05-13 00:00:00.000",
                                    "4": "trevor1@adventure-works.com"
                                },
                                {
                                    "0": "12073",
                                    "1": "Toni",
                                    "2": "Srini",
                                    "3": "1940-04-19 00:00:00.000",
                                    "4": "toni8@adventure-works.com"
                                },
                                {
                                    "0": "6106",
                                    "1": "Madison",
                                    "2": "Walker",
                                    "3": "1971-11-26 00:00:00.000",
                                    "4": "madison23@adventure-works.com"
                                },
                                {
                                    "0": "2977",
                                    "1": "Emmanuel",
                                    "2": "Smith",
                                    "3": "1968-05-16 00:00:00.000",
                                    "4": "emmanuel8@adventure-works.com"
                                },
                                {
                                    "0": "2512",
                                    "1": "Ernest",
                                    "2": "Liu",
                                    "3": "1941-05-04 00:00:00.000",
                                    "4": "ernest4@adventure-works.com"
                                },
                                {
                                    "0": "1898",
                                    "1": "Alyssa",
                                    "2": "Wilson",
                                    "3": "1970-01-06 00:00:00.000",
                                    "4": "alyssa6@adventure-works.com"
                                },
                                {
                                    "0": "9323",
                                    "1": "Rachel",
                                    "2": "Wood",
                                    "3": "1963-04-18 00:00:00.000",
                                    "4": "rachel49@adventure-works.com"
                                },
                                {
                                    "0": "7680",
                                    "1": "Seth",
                                    "2": "Wood",
                                    "3": "1972-07-26 00:00:00.000",
                                    "4": "seth50@adventure-works.com"
                                }
                            ]
                        },
                        "text/html": [
                            "<table>",
                            "<tr><th>CustomerKey</th><th>FirstName</th><th>LastName</th><th>BirthDate</th><th>EmailAddress</th></tr>",
                            "<tr><td>5248</td><td>Anna</td><td>Brown</td><td>1959-05-03 00:00:00.000</td><td>anna65@adventure-works.com</td></tr>",
                            "<tr><td>12143</td><td>Cara</td><td>Wu</td><td>1956-07-01 00:00:00.000</td><td>cara3@adventure-works.com</td></tr>",
                            "<tr><td>6457</td><td>Trevor</td><td>Wood</td><td>1954-05-13 00:00:00.000</td><td>trevor1@adventure-works.com</td></tr>",
                            "<tr><td>12073</td><td>Toni</td><td>Srini</td><td>1940-04-19 00:00:00.000</td><td>toni8@adventure-works.com</td></tr>",
                            "<tr><td>6106</td><td>Madison</td><td>Walker</td><td>1971-11-26 00:00:00.000</td><td>madison23@adventure-works.com</td></tr>",
                            "<tr><td>2977</td><td>Emmanuel</td><td>Smith</td><td>1968-05-16 00:00:00.000</td><td>emmanuel8@adventure-works.com</td></tr>",
                            "<tr><td>2512</td><td>Ernest</td><td>Liu</td><td>1941-05-04 00:00:00.000</td><td>ernest4@adventure-works.com</td></tr>",
                            "<tr><td>1898</td><td>Alyssa</td><td>Wilson</td><td>1970-01-06 00:00:00.000</td><td>alyssa6@adventure-works.com</td></tr>",
                            "<tr><td>9323</td><td>Rachel</td><td>Wood</td><td>1963-04-18 00:00:00.000</td><td>rachel49@adventure-works.com</td></tr>",
                            "<tr><td>7680</td><td>Seth</td><td>Wood</td><td>1972-07-26 00:00:00.000</td><td>seth50@adventure-works.com</td></tr>",
                            "</table>"
                        ]
                    }
                },
                {
                    "output_type": "execute_result",
                    "metadata": {},
                    "execution_count": 29,
                    "data": {
                        "application/vnd.dataresource+json": {
                            "schema": {
                                "fields": [
                                    {
                                        "name": "EmployeeKey"
                                    },
                                    {
                                        "name": "FirstName"
                                    },
                                    {
                                        "name": "LastName"
                                    },
                                    {
                                        "name": "BirthDate"
                                    },
                                    {
                                        "name": "EmailAddress"
                                    }
                                ]
                            },
                            "data": [
                                {
                                    "0": "250",
                                    "1": "Cindy",
                                    "2": "White",
                                    "3": "1942-04-03 00:00:00.000",
                                    "4": "frank3@contoso.com"
                                },
                                {
                                    "0": "126",
                                    "1": "Grigory",
                                    "2": "Pogulsky",
                                    "3": "1967-02-16 00:00:00.000",
                                    "4": "jeff0@contoso.com"
                                },
                                {
                                    "0": "178",
                                    "1": "Patrick",
                                    "2": "Sands",
                                    "3": "1981-05-07 00:00:00.000",
                                    "4": "steve0@contoso.com"
                                },
                                {
                                    "0": "152",
                                    "1": "Wendy",
                                    "2": "Richardson",
                                    "3": "1973-02-07 00:00:00.000",
                                    "4": "james1@contoso.com"
                                },
                                {
                                    "0": "54",
                                    "1": "Eiji",
                                    "2": "Yasuda",
                                    "3": "1975-03-10 00:00:00.000",
                                    "4": "kirk0@contoso.com"
                                },
                                {
                                    "0": "204",
                                    "1": "David",
                                    "2": "Simpson",
                                    "3": "1967-11-27 00:00:00.000",
                                    "4": "hazem0@contoso.com"
                                },
                                {
                                    "0": "230",
                                    "1": "Iben",
                                    "2": "Thorell",
                                    "3": "1960-04-07 00:00:00.000",
                                    "4": "karan0@contoso.com"
                                },
                                {
                                    "0": "81",
                                    "1": "Ari",
                                    "2": "Bixhorn",
                                    "3": "1976-07-06 00:00:00.000",
                                    "4": "diane1@contoso.com"
                                },
                                {
                                    "0": "107",
                                    "1": "Robert",
                                    "2": "Brown",
                                    "3": "1963-02-25 00:00:00.000",
                                    "4": "lolan0@contoso.com"
                                },
                                {
                                    "0": "27",
                                    "1": "Oleg",
                                    "2": "Anashkin",
                                    "3": "1973-11-26 00:00:00.000",
                                    "4": "zheng0@contoso.com"
                                }
                            ]
                        },
                        "text/html": [
                            "<table>",
                            "<tr><th>EmployeeKey</th><th>FirstName</th><th>LastName</th><th>BirthDate</th><th>EmailAddress</th></tr>",
                            "<tr><td>250</td><td>Cindy</td><td>White</td><td>1942-04-03 00:00:00.000</td><td>frank3@contoso.com</td></tr>",
                            "<tr><td>126</td><td>Grigory</td><td>Pogulsky</td><td>1967-02-16 00:00:00.000</td><td>jeff0@contoso.com</td></tr>",
                            "<tr><td>178</td><td>Patrick</td><td>Sands</td><td>1981-05-07 00:00:00.000</td><td>steve0@contoso.com</td></tr>",
                            "<tr><td>152</td><td>Wendy</td><td>Richardson</td><td>1973-02-07 00:00:00.000</td><td>james1@contoso.com</td></tr>",
                            "<tr><td>54</td><td>Eiji</td><td>Yasuda</td><td>1975-03-10 00:00:00.000</td><td>kirk0@contoso.com</td></tr>",
                            "<tr><td>204</td><td>David</td><td>Simpson</td><td>1967-11-27 00:00:00.000</td><td>hazem0@contoso.com</td></tr>",
                            "<tr><td>230</td><td>Iben</td><td>Thorell</td><td>1960-04-07 00:00:00.000</td><td>karan0@contoso.com</td></tr>",
                            "<tr><td>81</td><td>Ari</td><td>Bixhorn</td><td>1976-07-06 00:00:00.000</td><td>diane1@contoso.com</td></tr>",
                            "<tr><td>107</td><td>Robert</td><td>Brown</td><td>1963-02-25 00:00:00.000</td><td>lolan0@contoso.com</td></tr>",
                            "<tr><td>27</td><td>Oleg</td><td>Anashkin</td><td>1973-11-26 00:00:00.000</td><td>zheng0@contoso.com</td></tr>",
                            "</table>"
                        ]
                    }
                }
            ],
            "execution_count": 29
        },
        {
            "cell_type": "code",
            "source": [
                "GRANT UNMASK ON OBJECT::cso.DimCustomer(EmailAddress) TO MarketingUser\r\n",
                "GRANT UNMASK ON OBJECT::cso.DimCustomer(BirthDate) TO HRManager\r\n",
                "GRANT UNMASK ON SCHEMA::cso TO schemaowner"
            ],
            "metadata": {
                "azdata_cell_guid": "9f293368-4eab-4148-ae5e-7c6890d4b3e6",
                "tags": []
            },
            "outputs": [
                {
                    "output_type": "display_data",
                    "data": {
                        "text/html": "Commands completed successfully."
                    },
                    "metadata": {}
                },
                {
                    "output_type": "display_data",
                    "data": {
                        "text/html": "Total execution time: 00:00:00.119"
                    },
                    "metadata": {}
                }
            ],
            "execution_count": 31
        },
        {
            "cell_type": "code",
            "source": [
                "--Test Makreting User\r\n",
                "\r\n",
                "EXECUTE AS USER = 'MarketingUser';  \r\n",
                "\r\n",
                "SELECT Top 10 CustomerKey, FirstName, LastName, BirthDate, EmailAddress FROM cso.DimCustomer; \r\n",
                "\r\n",
                "REVERT;"
            ],
            "metadata": {
                "azdata_cell_guid": "bf0b6d7b-2958-4e40-9b48-f19dee919d7f",
                "tags": [
                    "hide_input"
                ]
            },
            "outputs": [
                {
                    "output_type": "display_data",
                    "data": {
                        "text/html": "(10 rows affected)"
                    },
                    "metadata": {}
                },
                {
                    "output_type": "display_data",
                    "data": {
                        "text/html": "Total execution time: 00:00:00.380"
                    },
                    "metadata": {}
                },
                {
                    "output_type": "execute_result",
                    "metadata": {},
                    "execution_count": 33,
                    "data": {
                        "application/vnd.dataresource+json": {
                            "schema": {
                                "fields": [
                                    {
                                        "name": "CustomerKey"
                                    },
                                    {
                                        "name": "FirstName"
                                    },
                                    {
                                        "name": "LastName"
                                    },
                                    {
                                        "name": "BirthDate"
                                    },
                                    {
                                        "name": "EmailAddress"
                                    }
                                ]
                            },
                            "data": [
                                {
                                    "0": "5248",
                                    "1": "Anna",
                                    "2": "Brown",
                                    "3": "1900-01-01 00:00:00.000",
                                    "4": "aXXX@XXXX.com"
                                },
                                {
                                    "0": "12143",
                                    "1": "Cara",
                                    "2": "Wu",
                                    "3": "1900-01-01 00:00:00.000",
                                    "4": "cXXX@XXXX.com"
                                },
                                {
                                    "0": "6457",
                                    "1": "Trevor",
                                    "2": "Wood",
                                    "3": "1900-01-01 00:00:00.000",
                                    "4": "tXXX@XXXX.com"
                                },
                                {
                                    "0": "12073",
                                    "1": "Toni",
                                    "2": "Srini",
                                    "3": "1900-01-01 00:00:00.000",
                                    "4": "tXXX@XXXX.com"
                                },
                                {
                                    "0": "6106",
                                    "1": "Madison",
                                    "2": "Walker",
                                    "3": "1900-01-01 00:00:00.000",
                                    "4": "mXXX@XXXX.com"
                                },
                                {
                                    "0": "2977",
                                    "1": "Emmanuel",
                                    "2": "Smith",
                                    "3": "1900-01-01 00:00:00.000",
                                    "4": "eXXX@XXXX.com"
                                },
                                {
                                    "0": "2512",
                                    "1": "Ernest",
                                    "2": "Liu",
                                    "3": "1900-01-01 00:00:00.000",
                                    "4": "eXXX@XXXX.com"
                                },
                                {
                                    "0": "1898",
                                    "1": "Alyssa",
                                    "2": "Wilson",
                                    "3": "1900-01-01 00:00:00.000",
                                    "4": "aXXX@XXXX.com"
                                },
                                {
                                    "0": "9323",
                                    "1": "Rachel",
                                    "2": "Wood",
                                    "3": "1900-01-01 00:00:00.000",
                                    "4": "rXXX@XXXX.com"
                                },
                                {
                                    "0": "7680",
                                    "1": "Seth",
                                    "2": "Wood",
                                    "3": "1900-01-01 00:00:00.000",
                                    "4": "sXXX@XXXX.com"
                                }
                            ]
                        },
                        "text/html": [
                            "<table>",
                            "<tr><th>CustomerKey</th><th>FirstName</th><th>LastName</th><th>BirthDate</th><th>EmailAddress</th></tr>",
                            "<tr><td>5248</td><td>Anna</td><td>Brown</td><td>1900-01-01 00:00:00.000</td><td>aXXX@XXXX.com</td></tr>",
                            "<tr><td>12143</td><td>Cara</td><td>Wu</td><td>1900-01-01 00:00:00.000</td><td>cXXX@XXXX.com</td></tr>",
                            "<tr><td>6457</td><td>Trevor</td><td>Wood</td><td>1900-01-01 00:00:00.000</td><td>tXXX@XXXX.com</td></tr>",
                            "<tr><td>12073</td><td>Toni</td><td>Srini</td><td>1900-01-01 00:00:00.000</td><td>tXXX@XXXX.com</td></tr>",
                            "<tr><td>6106</td><td>Madison</td><td>Walker</td><td>1900-01-01 00:00:00.000</td><td>mXXX@XXXX.com</td></tr>",
                            "<tr><td>2977</td><td>Emmanuel</td><td>Smith</td><td>1900-01-01 00:00:00.000</td><td>eXXX@XXXX.com</td></tr>",
                            "<tr><td>2512</td><td>Ernest</td><td>Liu</td><td>1900-01-01 00:00:00.000</td><td>eXXX@XXXX.com</td></tr>",
                            "<tr><td>1898</td><td>Alyssa</td><td>Wilson</td><td>1900-01-01 00:00:00.000</td><td>aXXX@XXXX.com</td></tr>",
                            "<tr><td>9323</td><td>Rachel</td><td>Wood</td><td>1900-01-01 00:00:00.000</td><td>rXXX@XXXX.com</td></tr>",
                            "<tr><td>7680</td><td>Seth</td><td>Wood</td><td>1900-01-01 00:00:00.000</td><td>sXXX@XXXX.com</td></tr>",
                            "</table>"
                        ]
                    }
                }
            ],
            "execution_count": 33
        },
        {
            "cell_type": "code",
            "source": [
                "--Test HRManager\r\n",
                "\r\n",
                "EXECUTE AS USER = 'HRManager';  \r\n",
                "\r\n",
                "SELECT Top 10 CustomerKey, FirstName, LastName, BirthDate, EmailAddress FROM cso.DimCustomer; \r\n",
                "\r\n",
                "REVERT;"
            ],
            "metadata": {
                "azdata_cell_guid": "54dd0362-b050-4fda-a497-398693fa7e12"
            },
            "outputs": [
                {
                    "output_type": "error",
                    "evalue": "Msg 15517, Level 16, State 1, Line 1\r\nCannot execute as the database principal because the principal \"HRManager\" does not exist, this type of principal cannot be impersonated, or you do not have permission.",
                    "ename": "",
                    "traceback": []
                },
                {
                    "output_type": "display_data",
                    "data": {
                        "text/html": "Total execution time: 00:00:00.058"
                    },
                    "metadata": {}
                }
            ],
            "execution_count": 41
        }
    ]
}
